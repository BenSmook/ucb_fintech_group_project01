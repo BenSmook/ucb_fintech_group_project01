{
 "cells": [
  {
   "cell_type": "code",
   "execution_count": 1,
   "id": "6ae1c0c5-902c-4053-b694-f65388ac9e79",
   "metadata": {},
   "outputs": [],
   "source": [
    "import time, ssl, smtplib, os\n",
    "import pandas as pd\n",
    "from email.mime.text import MIMEText\n",
    "from email.mime.multipart import MIMEMultipart\n",
    "from email.header import Header"
   ]
  },
  {
   "cell_type": "code",
   "execution_count": null,
   "id": "a247913f-c758-4206-a51a-8c0c931d9767",
   "metadata": {},
   "outputs": [],
   "source": []
  },
  {
   "cell_type": "code",
   "execution_count": 2,
   "id": "4ad40882-246e-4415-b40f-18bb4c87305d",
   "metadata": {},
   "outputs": [
    {
     "ename": "IndentationError",
     "evalue": "unexpected indent (1679586659.py, line 2)",
     "output_type": "error",
     "traceback": [
      "\u001b[0;36m  File \u001b[0;32m\"/var/folders/pt/392yg8jd6y5clq7fmj21tsdw0000gn/T/ipykernel_14894/1679586659.py\"\u001b[0;36m, line \u001b[0;32m2\u001b[0m\n\u001b[0;31m    email_port = 465\u001b[0m\n\u001b[0m    ^\u001b[0m\n\u001b[0;31mIndentationError\u001b[0m\u001b[0;31m:\u001b[0m unexpected indent\n"
     ]
    }
   ],
   "source": [
    "context = ssl.create_default_context()\n",
    "    email_port = 465\n",
    "    with smtplib.SMTP_SSL(host = \"smtp.gmail.com\", port = email_port, context = context) as server:\n",
    "        server.login(user, key)\n",
    "        print(server.ehlo())\n",
    "        if server.ehlo()[0] == 250:\n",
    "            server.sendmail(key,to, message.as_string())\n",
    "            print('Email sent successfully!')\n",
    "            # os.remove('%s_Predicitions.csv'% max_date)\n",
    "            server.quit()\n",
    "        else:\n",
    "            print(f'Unable to establish connection with server! Error code: {server.ehlo()[0]}')\n",
    "            server.quit()\n"
   ]
  },
  {
   "cell_type": "code",
   "execution_count": null,
   "id": "289853b3-043a-4e34-9dcd-94f93f75e893",
   "metadata": {},
   "outputs": [],
   "source": []
  }
 ],
 "metadata": {
  "kernelspec": {
   "display_name": "Python 3 (ipykernel)",
   "language": "python",
   "name": "python3"
  },
  "language_info": {
   "codemirror_mode": {
    "name": "ipython",
    "version": 3
   },
   "file_extension": ".py",
   "mimetype": "text/x-python",
   "name": "python",
   "nbconvert_exporter": "python",
   "pygments_lexer": "ipython3",
   "version": "3.9.12"
  }
 },
 "nbformat": 4,
 "nbformat_minor": 5
}
